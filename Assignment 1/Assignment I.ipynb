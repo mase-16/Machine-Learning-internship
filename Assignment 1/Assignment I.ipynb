{
 "cells": [
  {
   "attachments": {},
   "cell_type": "markdown",
   "metadata": {},
   "source": [
    "# Problem statement 1"
   ]
  },
  {
   "cell_type": "code",
   "execution_count": null,
   "metadata": {},
   "outputs": [],
   "source": [
    "\"\"\" Problem Statement 1: Write a Python program to multiply a 𝑀 × 𝑁 matrix by 𝑁 × 𝐴 matrix and \n",
    "create a real matrix product.\n",
    "\"\"\""
   ]
  },
  {
   "cell_type": "code",
   "execution_count": 2,
   "metadata": {},
   "outputs": [],
   "source": [
    "# importing numpy library\n",
    "import numpy as np\n"
   ]
  },
  {
   "cell_type": "code",
   "execution_count": 7,
   "metadata": {},
   "outputs": [
    {
     "name": "stdout",
     "output_type": "stream",
     "text": [
      "First array: \n",
      " [[0.77359898 0.97649205 0.23327784]\n",
      " [0.64105887 0.15591668 0.83287165]\n",
      " [0.81402012 0.98604184 0.99039928]\n",
      " [0.99883066 0.23938577 0.79299229]\n",
      " [0.27487269 0.06878074 0.8387945 ]]\n",
      "\n",
      "\n",
      "Secondary array: \n",
      " [[0.33200886 0.13549993]\n",
      " [0.01243632 0.86823488]\n",
      " [0.39412822 0.09662319]]\n",
      "\n",
      "\n",
      "dot product of the two arrays: \n",
      " [[0.36092707 0.97518712]\n",
      " [0.54303448 0.30271045]\n",
      " [0.67286894 1.06211113]\n",
      " [0.64713835 0.419806  ]\n",
      " [0.42270813 0.17801007]]\n",
      "\n",
      "\n"
     ]
    }
   ],
   "source": [
    "def MatrixMultiplication(M, N, A):\n",
    "    \"\"\"\"\n",
    "    This program to multiply a 𝑀 × 𝑁 matrix by 𝑁 × 𝐴 matrix and \n",
    "create a real matrix product\n",
    "\"\"\"\n",
    "    # creating a M x N matrix\n",
    "    matrix1 = np.random.random(size=(M, N))\n",
    "    print(\"First array: \\n\", matrix1)\n",
    "    print('\\n')\n",
    "\n",
    "    # creating a N x A matrix\n",
    "    matrix2 = np.random.random(size=(N, A))\n",
    "    print(\"Secondary array: \\n\", matrix2)\n",
    "    print('\\n')\n",
    "\n",
    "    # matrix multiplication\n",
    " \n",
    "    matrix3 = np.dot(matrix1, matrix2)\n",
    "    print(\"dot product of the two arrays: \\n\", matrix3)\n",
    "    print('\\n')\n",
    "\n",
    "\n",
    "# calling the function\n",
    "\n",
    "MatrixMultiplication(5, 3, 2)"
   ]
  },
  {
   "attachments": {},
   "cell_type": "markdown",
   "metadata": {},
   "source": [
    "# Problem statement 2"
   ]
  },
  {
   "cell_type": "code",
   "execution_count": 8,
   "metadata": {},
   "outputs": [
    {
     "data": {
      "text/plain": [
       "'Problem Statement 2: Write a NumPy program to check if each element of an array of your \\nchoice is composed of digits, lower case letters, and upper case letters only.'"
      ]
     },
     "execution_count": 8,
     "metadata": {},
     "output_type": "execute_result"
    }
   ],
   "source": [
    "\"\"\"Problem Statement 2: Write a NumPy program to check if each element of an array of your \n",
    "choice is composed of digits, lower case letters, and upper case letters only.\"\"\""
   ]
  },
  {
   "cell_type": "code",
   "execution_count": 77,
   "metadata": {},
   "outputs": [
    {
     "data": {
      "text/plain": [
       "'Digit only = [False, False, False, False, False, True]\\nLower case only = [False, False, False, False, True, False]\\nUpper case only = [False, True, True, False, False, False].'"
      ]
     },
     "execution_count": 77,
     "metadata": {},
     "output_type": "execute_result"
    }
   ],
   "source": [
    "def check_array(array):\n",
    "    \"\"\"This function is to check if each element of an array of your choice is composed of digits, lower case letters, and upper case letters only.\"\"\"\n",
    "    Digit_Only = []\n",
    "    Lower_Case_Only = []\n",
    "    Upper_Case_Only = []\n",
    "    # iterating each element in the array\n",
    "    \n",
    "    for i in array:\n",
    "        # checking if each element is composed of digits, lower case letters, and upper case letters only\n",
    "        if i.isdigit():\n",
    "            Digit_Only.append(True)\n",
    "           \n",
    "        else:\n",
    "            Digit_Only.append(False)\n",
    "\n",
    "        \n",
    "\n",
    "        if i.islower():\n",
    "            Lower_Case_Only.append(True)\n",
    "        else:\n",
    "            Lower_Case_Only.append(False)\n",
    "\n",
    "        if i.isupper():\n",
    "            Upper_Case_Only.append(True)\n",
    "        else:\n",
    "            Upper_Case_Only.append(False)\n",
    "\n",
    "       # returning the result with new line character\n",
    "\n",
    "\n",
    "    return  \"Digit only = {}\\nLower case only = {}\\nUpper case only = {}.\".format(Digit_Only, Lower_Case_Only, Upper_Case_Only)\n",
    "\n",
    "\n",
    "Array = np.array(['Python', 'PHP', 'JS', 'Examples', 'html5', '5'])\n",
    "\n",
    "check_array(Array)"
   ]
  },
  {
   "attachments": {},
   "cell_type": "markdown",
   "metadata": {},
   "source": [
    "# Problem statement 3"
   ]
  },
  {
   "cell_type": "code",
   "execution_count": 44,
   "metadata": {},
   "outputs": [
    {
     "data": {
      "text/plain": [
       "'Problem Statement 3: Write a program that reads two space-separated positive integers 𝑋 and \\n𝑌 as input and perform the following tasks:\\n'"
      ]
     },
     "execution_count": 44,
     "metadata": {},
     "output_type": "execute_result"
    }
   ],
   "source": [
    "\"\"\"Problem Statement 3: Write a program that reads two space-separated positive integers 𝑋 and \n",
    "𝑌 as input and perform the following tasks:\n",
    "\"\"\""
   ]
  },
  {
   "cell_type": "code",
   "execution_count": 67,
   "metadata": {},
   "outputs": [
    {
     "data": {
      "text/plain": [
       "array([  0,  -2,  -4,  -6,  -8, -10, -12, -14, -16, -18, -20, -22, -24,\n",
       "       -26, -28, -30])"
      ]
     },
     "execution_count": 67,
     "metadata": {},
     "output_type": "execute_result"
    }
   ],
   "source": [
    "def input_function():\n",
    "    \"\"\"This function is to read two space-separated positive integers 𝑋 and Y as input\"\"\"\n",
    "\n",
    "    # Step 1: Read input values X and Y\n",
    "    X, Y = map(int, input(\"Enter two space-separated positive integers X and Y: \").split())\n",
    "\n",
    "\n",
    "    # 2.1. Create a list (lst1) starting at one (1) with 16 elements at a step of X\n",
    "\n",
    "    lst1 =list(range(1, X * 16 +1 ,X))\n",
    "\n",
    "    # 2.2. Create a list (lst2) starting at one (1) with 16 elements at a step of Y\n",
    "\n",
    "    lst2 =list(range(1,Y * 16 +1 ,Y))\n",
    "\n",
    "    # 3. Create two NumPy arrays np1 and np2 using lst1 and lst2 respectively\n",
    "\n",
    "    np1 = np.array(lst1)\n",
    "\n",
    "    np2 = np.array(lst2)\n",
    "\n",
    "    #4. # Reshape both the NumPy arrays to (4,4\n",
    "\n",
    "    np1 = np1.reshape(4,4)\n",
    "\n",
    "    np2 = np2.reshape(4,4)\n",
    "\n",
    "    # 5. Create a new np array (np3) with values obtained by subtracting both the arrays (np1 - np2)\n",
    "\n",
    "    np3 = np1 - np2\n",
    "\n",
    "    # Print all the elements of np3 in a single dimension\n",
    "    return np3.flatten()\n",
    "\n",
    "\n",
    "# calling the function\n",
    "\n",
    "input_function()\n"
   ]
  },
  {
   "cell_type": "code",
   "execution_count": 59,
   "metadata": {},
   "outputs": [
    {
     "data": {
      "text/plain": [
       "16"
      ]
     },
     "execution_count": 59,
     "metadata": {},
     "output_type": "execute_result"
    }
   ],
   "source": [
    "# 1. Create a list (lst1) starting at one (1) with 16 elements at a step of X\n",
    "\n",
    "lst1 =list(range(0,32,2))\n",
    "\n",
    "\n",
    "# 2. Create a list (lst2) starting at one (1) with 16 elements at a step of Y\n",
    "\n",
    "lst2 =list(range(0,47,3))\n",
    "\n",
    "len(lst2)"
   ]
  },
  {
   "cell_type": "code",
   "execution_count": 66,
   "metadata": {},
   "outputs": [
    {
     "data": {
      "text/plain": [
       "array([ 0,  2,  4,  6,  8, 10, 12, 14, 16, 18, 20, 22, 24, 26, 28, 30])"
      ]
     },
     "execution_count": 66,
     "metadata": {},
     "output_type": "execute_result"
    }
   ],
   "source": [
    "# 3. Create two NumPy arrays np1 and np2 using lst1 and lst2 respectively\n",
    "\n",
    "np1 = np.array(lst1)\n",
    "\n",
    "np2 = np.array(lst2)\n",
    "\n",
    "np1"
   ]
  },
  {
   "cell_type": "code",
   "execution_count": 61,
   "metadata": {},
   "outputs": [],
   "source": [
    "# Reshape both the NumPy arrays to (4,4\n",
    "\n",
    "np1 = np1.reshape(4,4)\n",
    "\n",
    "np2 = np2.reshape(4,4)\n"
   ]
  },
  {
   "cell_type": "code",
   "execution_count": 62,
   "metadata": {},
   "outputs": [
    {
     "name": "stdout",
     "output_type": "stream",
     "text": [
      "[[  0  -1  -2  -3]\n",
      " [ -4  -5  -6  -7]\n",
      " [ -8  -9 -10 -11]\n",
      " [-12 -13 -14 -15]]\n"
     ]
    }
   ],
   "source": [
    "# 5. Create a new np array (np3) with values obtained by subtracting both the arrays (np1 - np2)\n",
    "\n",
    "np3 = np1 - np2\n",
    "\n",
    "print(np3)\n",
    "\n",
    "\n"
   ]
  },
  {
   "cell_type": "code",
   "execution_count": 64,
   "metadata": {},
   "outputs": [
    {
     "data": {
      "text/plain": [
       "array([  0,  -1,  -2,  -3,  -4,  -5,  -6,  -7,  -8,  -9, -10, -11, -12,\n",
       "       -13, -14, -15])"
      ]
     },
     "execution_count": 64,
     "metadata": {},
     "output_type": "execute_result"
    }
   ],
   "source": [
    "# 6. Print all the elements of np3 in a single dimension\n",
    "\n",
    "np3.flatten()"
   ]
  },
  {
   "cell_type": "code",
   "execution_count": 34,
   "metadata": {},
   "outputs": [
    {
     "data": {
      "text/plain": [
       "'Problem Statement 4: Write a Python program that takes two integer-NumPy arrays, 𝑃 and 𝑄 of \\nshape [3 ∗ 3] and perform the following task:\\n\\nPrint the element-wise difference of the matrix 𝑃 and 𝑄 (𝑃 − 𝑄)\\n\\n\\n'"
      ]
     },
     "execution_count": 34,
     "metadata": {},
     "output_type": "execute_result"
    }
   ],
   "source": [
    "\"\"\"Problem Statement 4: Write a Python program that takes two integer-NumPy arrays, 𝑃 and 𝑄 of \n",
    "shape [3 ∗ 3] and perform the following task:\n",
    "\n",
    "Print the element-wise difference of the matrix 𝑃 and 𝑄 (𝑃 − 𝑄)\n",
    "\n",
    "\n",
    "\"\"\""
   ]
  },
  {
   "cell_type": "code",
   "execution_count": 42,
   "metadata": {},
   "outputs": [
    {
     "data": {
      "text/plain": [
       "array([[11, 22, 33],\n",
       "       [-4,  4, 42],\n",
       "       [-2,  4,  0]])"
      ]
     },
     "execution_count": 42,
     "metadata": {},
     "output_type": "execute_result"
    }
   ],
   "source": [
    "def element_wise_difference(P: 'array', Q: array) -> array:\n",
    "    \"\"\"\n",
    "    This function takes two integer-NumPy arrays, 𝑃 and 𝑄 of shape [3 ∗ 3] and perform the following task: \n",
    "\n",
    "    Print the element-wise difference of the matrix 𝑃 and 𝑄 (𝑃 − 𝑄)\n",
    "\n",
    "    \"\"\"\n",
    "    matrix_1 = P.reshape(3, 3)\n",
    "\n",
    "    matrix_2 = Q.reshape(3, 3)\n",
    "   \n",
    "    return matrix_1 - matrix_2\n",
    "\n",
    "# calling the function\n",
    "\n",
    "element_wise_difference(np.array([23, 56 ,87, 3 ,6 ,96 ,4 ,6 ,78]), np.array([12 ,34, 54, 7 ,2 ,54, 6, 2, 78]))"
   ]
  }
 ],
 "metadata": {
  "kernelspec": {
   "display_name": "TensorflowMachinelearning",
   "language": "python",
   "name": "python3"
  },
  "language_info": {
   "codemirror_mode": {
    "name": "ipython",
    "version": 3
   },
   "file_extension": ".py",
   "mimetype": "text/x-python",
   "name": "python",
   "nbconvert_exporter": "python",
   "pygments_lexer": "ipython3",
   "version": "3.10.8"
  },
  "orig_nbformat": 4
 },
 "nbformat": 4,
 "nbformat_minor": 2
}
