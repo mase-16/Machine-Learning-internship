{
 "cells": [
  {
   "cell_type": "code",
   "execution_count": 2,
   "metadata": {},
   "outputs": [],
   "source": [
    "#  importing libraries\n",
    "\n",
    "import pandas as pd\n",
    "\n",
    "import seaborn as sns\n",
    "\n",
    "import matplotlib.pyplot as plt"
   ]
  },
  {
   "attachments": {},
   "cell_type": "markdown",
   "metadata": {},
   "source": [
    "# # Problem Statement 1"
   ]
  },
  {
   "cell_type": "code",
   "execution_count": 3,
   "metadata": {},
   "outputs": [
    {
     "data": {
      "text/plain": [
       "\"Problem Statement 1\\n \\n#### Samantha has created a dataset named 'top50spotify.csv' of her top 50 songs from spotify.\\n\\n#### Dataset Description:\\ntop50spotify.csv \\n-\\nThe dataset contains 14 features. Here's a brief description of a few columns \\nin the dataset:\\n1. SerialNo. \\n2. Serial number of songs\\n3. Track.Name \\n4. Name of the track\\n5. Artist.Name \\n6. Name of the artist\\n7. Genre \\n8. Genre of the song\\n9. Energy \\n10. Energy index of the song\\n11. Length \\n12. Length of the song\\n13. Popularity \\n14. Popularity index of the song\""
      ]
     },
     "execution_count": 3,
     "metadata": {},
     "output_type": "execute_result"
    }
   ],
   "source": [
    "\"\"\"Problem Statement 1\n",
    " \n",
    "#### Samantha has created a dataset named 'top50spotify.csv' of her top 50 songs from spotify.\n",
    "\n",
    "#### Dataset Description:\n",
    "top50spotify.csv \n",
    "-\n",
    "The dataset contains 14 features. Here's a brief description of a few columns \n",
    "in the dataset:\n",
    "1. SerialNo. \n",
    "2. Serial number of songs\n",
    "3. Track.Name \n",
    "4. Name of the track\n",
    "5. Artist.Name \n",
    "6. Name of the artist\n",
    "7. Genre \n",
    "8. Genre of the song\n",
    "9. Energy \n",
    "10. Energy index of the song\n",
    "11. Length \n",
    "12. Length of the song\n",
    "13. Popularity \n",
    "14. Popularity index of the song\"\"\"\n"
   ]
  },
  {
   "cell_type": "code",
   "execution_count": 4,
   "metadata": {},
   "outputs": [],
   "source": [
    "# 1. importing the file top50spotify.csv and droping the first column\n",
    "\n",
    "\n",
    "df = pd.read_csv('top50spotify.csv')\n",
    "\n",
    "# droping the first column\n",
    "\n",
    "df.drop(df.columns[0], axis=1, inplace=True)  "
   ]
  },
  {
   "cell_type": "code",
   "execution_count": 5,
   "metadata": {},
   "outputs": [],
   "source": [
    "#2. saving the file as top50.csv\n",
    "\n",
    "df.to_csv('top50.csv')\n"
   ]
  },
  {
   "cell_type": "code",
   "execution_count": 6,
   "metadata": {},
   "outputs": [
    {
     "name": "stdout",
     "output_type": "stream",
     "text": [
      "Average Energy of the first 10 songs: 65.1\n",
      "Average Length of the first 10 songs: 195.6\n"
     ]
    }
   ],
   "source": [
    "# 3. Find the average Energy and Length of first 10 songs\n",
    "first_10_songs = df.head(10)\n",
    "average_energy = first_10_songs['Energy'].mean()\n",
    "average_length = first_10_songs['Length.'].mean()\n",
    "print(\"Average Energy of the first 10 songs:\", average_energy)\n",
    "print(\"Average Length of the first 10 songs:\", average_length)\n"
   ]
  },
  {
   "cell_type": "code",
   "execution_count": 7,
   "metadata": {},
   "outputs": [
    {
     "name": "stdout",
     "output_type": "stream",
     "text": [
      "Total length of songs, grouped by genre:\n",
      "Genre\n",
      "dance pop           1621\n",
      "pop                 1368\n",
      "latin               1126\n",
      "edm                  656\n",
      "reggaeton flow       611\n",
      "canadian hip hop     579\n",
      "panamanian pop       514\n",
      "reggaeton            427\n",
      "brostep              396\n",
      "electropop           389\n",
      "canadian pop         382\n",
      "dfw rap              333\n",
      "country rap          272\n",
      "australian pop       210\n",
      "atl hip hop          200\n",
      "boy band             181\n",
      "escape room          173\n",
      "big room             164\n",
      "r&b en espanol       162\n",
      "pop house            153\n",
      "trap music           131\n",
      "Name: Length., dtype: int64\n"
     ]
    }
   ],
   "source": [
    "# 4. Find the total length of songs, group by genre from top to bottom.\n",
    "\n",
    "total_length_by_genre = df.groupby('Genre')['Length.'].sum().sort_values(ascending=False)\n",
    "print(\"Total length of songs, grouped by genre:\")\n",
    "print(total_length_by_genre)"
   ]
  },
  {
   "cell_type": "code",
   "execution_count": 8,
   "metadata": {},
   "outputs": [
    {
     "name": "stdout",
     "output_type": "stream",
     "text": [
      "Artist with the most tracks in one genre:\n",
      "  Artist.Name Genre  TrackCount\n",
      "9  Ed Sheeran   pop           4\n"
     ]
    }
   ],
   "source": [
    "#5. printing the artist name with the most number of tracks in one genre\n",
    "\n",
    "artist_with_most_tracks = df.groupby(['Artist.Name', 'Genre']).size().reset_index(name='TrackCount')\n",
    "max_track_count = artist_with_most_tracks['TrackCount'].max()\n",
    "artist_with_most_tracks = artist_with_most_tracks[artist_with_most_tracks['TrackCount'] == max_track_count]\n",
    "print(\"Artist with the most tracks in one genre:\")\n",
    "print(artist_with_most_tracks)"
   ]
  },
  {
   "cell_type": "code",
   "execution_count": 9,
   "metadata": {},
   "outputs": [
    {
     "name": "stdout",
     "output_type": "stream",
     "text": [
      "Tracks created by Ed Sheeran:\n",
      "                                       Track.Name Artist.Name Genre  \\\n",
      "3                 Beautiful People (feat. Khalid)  Ed Sheeran   pop   \n",
      "5               I Don't Care (with Justin Bieber)  Ed Sheeran   pop   \n",
      "37                 Antisocial (with Travis Scott)  Ed Sheeran   pop   \n",
      "49  Cross Me (feat. Chance the Rapper & PnB Rock)  Ed Sheeran   pop   \n",
      "\n",
      "    Beats.Per.Minute  Energy  Danceability  Loudness..dB..  Liveness  \\\n",
      "3                 93      65            64              -8         8   \n",
      "5                102      68            80              -5         9   \n",
      "37               152      82            72              -5        36   \n",
      "49                95      79            75              -6         7   \n",
      "\n",
      "    Valence.  Length.  Acousticness..  Speechiness.  Popularity  \n",
      "3         55      198              12            19          86  \n",
      "5         84      220               9             4          84  \n",
      "37        91      162              13             5          87  \n",
      "49        61      206              21            12          82  \n"
     ]
    }
   ],
   "source": [
    "# 6. Print the data of the tracks created by the artist from the previous question\n",
    "\n",
    "TrackNames= df[df['Artist.Name'] == 'Ed Sheeran']\n",
    "print(\"Tracks created by Ed Sheeran:\")\n",
    "print(TrackNames)\n"
   ]
  },
  {
   "attachments": {},
   "cell_type": "markdown",
   "metadata": {},
   "source": [
    "# Problem Statement 2\n",
    "\n"
   ]
  },
  {
   "cell_type": "code",
   "execution_count": 10,
   "metadata": {},
   "outputs": [
    {
     "data": {
      "text/plain": [
       "\" \\n Problem Statement 2\\n\\n Write a Python program to perform the following tasks\\n\\n1.  Create a pandas series from the below dictionary where indices are subjects:\\n\\n{'English':{'Sam':60,'Jackson':74,'Ahree':85}, \\n\\n'History':{'Gloria':83,'Sam':65,'Isla':78,'Aron':72,'Gray':61\\n},\\n\\n'Geography':{\\n'Jackson':92,'Gloria':95,'Isla':82,'Aron':75,'A\\nhree':76}, \\n\\n'Mathematics':{'Sam':99,'Gloria':74,'Jackson':89,'Ahree':85,\\n'Gray':95},\\n\\n'Science':{'Sam':89,'Aron':82,'Gray':78,'Isla':93,'Ahree':87\\n}\\n}\\n\\n2.Convert the created series into DataFrame and replace the null values with zeroes.\\n3.Transpose the DataFrame and create a new column 'Average' and fill the values in it by \\ncalculating the average of all subjects\\n\\n\\n\""
      ]
     },
     "execution_count": 10,
     "metadata": {},
     "output_type": "execute_result"
    }
   ],
   "source": [
    "\"\"\" \n",
    " Problem Statement 2\n",
    "\n",
    " Write a Python program to perform the following tasks\n",
    "\n",
    "1.  Create a pandas series from the below dictionary where indices are subjects:\n",
    "\n",
    "{'English':{'Sam':60,'Jackson':74,'Ahree':85}, \n",
    "\n",
    "'History':{'Gloria':83,'Sam':65,'Isla':78,'Aron':72,'Gray':61\n",
    "},\n",
    "\n",
    "'Geography':{\n",
    "'Jackson':92,'Gloria':95,'Isla':82,'Aron':75,'A\n",
    "hree':76}, \n",
    "\n",
    "'Mathematics':{'Sam':99,'Gloria':74,'Jackson':89,'Ahree':85,\n",
    "'Gray':95},\n",
    "\n",
    "'Science':{'Sam':89,'Aron':82,'Gray':78,'Isla':93,'Ahree':87\n",
    "}\n",
    "}\n",
    "\n",
    "2.Convert the created series into DataFrame and replace the null values with zeroes.\n",
    "3.Transpose the DataFrame and create a new column 'Average' and fill the values in it by \n",
    "calculating the average of all subjects\n",
    "\n",
    "\n",
    "\"\"\""
   ]
  },
  {
   "cell_type": "code",
   "execution_count": 11,
   "metadata": {},
   "outputs": [
    {
     "data": {
      "text/plain": [
       "English                  {'Sam': 60, 'Jackson': 74, 'Ahree': 85}\n",
       "History        {'Gloria': 83, 'Sam': 65, 'Isla': 78, 'Aron': ...\n",
       "Geography      {'Jackson': 92, 'Gloria': 95, 'Isla': 82, 'Aro...\n",
       "Mathematics    {'Sam': 99, 'Gloria': 74, 'Jackson': 89, 'Ahre...\n",
       "Science        {'Sam': 89, 'Aron': 82, 'Gray': 78, 'Isla': 93...\n",
       "dtype: object"
      ]
     },
     "execution_count": 11,
     "metadata": {},
     "output_type": "execute_result"
    }
   ],
   "source": [
    "# creating a dictionary\n",
    "\n",
    "data = {'English':{'Sam':60,'Jackson':74,'Ahree':85},\n",
    "\n",
    "'History':{'Gloria':83,'Sam':65,'Isla':78,'Aron':72,'Gray':61},\n",
    "\n",
    "'Geography':{'Jackson':92,'Gloria':95,'Isla':82,'Aron':75,'Ahree':76},\n",
    "\n",
    "'Mathematics':{'Sam':99,'Gloria':74,'Jackson':89,'Ahree':85, 'Gray':95},\n",
    "'Science':{'Sam':89,'Aron':82,'Gray':78,'Isla':93,'Ahree':87}}\n",
    "\n",
    "# creating a series from the dictionary\n",
    "\n",
    "series = pd.Series(data)\n",
    "\n",
    "# printing the series\n",
    "\n",
    "\n",
    "series\n"
   ]
  },
  {
   "cell_type": "code",
   "execution_count": 12,
   "metadata": {},
   "outputs": [
    {
     "name": "stdout",
     "output_type": "stream",
     "text": [
      "Sam        60\n",
      "Jackson    74\n",
      "Ahree      85\n",
      "Name: English, dtype: int64\n",
      "\n",
      "\n",
      "Gloria    83\n",
      "Sam       65\n",
      "Isla      78\n",
      "Aron      72\n",
      "Gray      61\n",
      "Name: History, dtype: int64\n",
      "\n",
      "\n",
      "Jackson    92\n",
      "Gloria     95\n",
      "Isla       82\n",
      "Aron       75\n",
      "Ahree      76\n",
      "Name: Geography, dtype: int64\n",
      "\n",
      "\n",
      "Sam        99\n",
      "Gloria     74\n",
      "Jackson    89\n",
      "Ahree      85\n",
      "Gray       95\n",
      "Name: Mathematics, dtype: int64\n",
      "\n",
      "\n",
      "Sam      89\n",
      "Aron     82\n",
      "Gray     78\n",
      "Isla     93\n",
      "Ahree    87\n",
      "Name: Science, dtype: int64\n",
      "\n",
      "\n"
     ]
    }
   ],
   "source": [
    "# 1.  creating a functions that converts a dictionary into a series\n",
    "\n",
    "def create_series_from_dict(dictionary):\n",
    "    series_list = []\n",
    "    for key, value in dictionary.items():\n",
    "        series = pd.Series(value, name=key)\n",
    "        series_list.append(series)\n",
    "    return series_list\n",
    "\n",
    "series_list = create_series_from_dict(data)\n",
    "\n",
    "for series in series_list:\n",
    "    print(series)\n",
    "    print(\"\\n\")"
   ]
  },
  {
   "cell_type": "code",
   "execution_count": 13,
   "metadata": {},
   "outputs": [
    {
     "data": {
      "text/html": [
       "<div>\n",
       "<style scoped>\n",
       "    .dataframe tbody tr th:only-of-type {\n",
       "        vertical-align: middle;\n",
       "    }\n",
       "\n",
       "    .dataframe tbody tr th {\n",
       "        vertical-align: top;\n",
       "    }\n",
       "\n",
       "    .dataframe thead th {\n",
       "        text-align: right;\n",
       "    }\n",
       "</style>\n",
       "<table border=\"1\" class=\"dataframe\">\n",
       "  <thead>\n",
       "    <tr style=\"text-align: right;\">\n",
       "      <th></th>\n",
       "      <th>Sam</th>\n",
       "      <th>Jackson</th>\n",
       "      <th>Ahree</th>\n",
       "      <th>Gloria</th>\n",
       "      <th>Isla</th>\n",
       "      <th>Aron</th>\n",
       "      <th>Gray</th>\n",
       "    </tr>\n",
       "  </thead>\n",
       "  <tbody>\n",
       "    <tr>\n",
       "      <th>English</th>\n",
       "      <td>60.0</td>\n",
       "      <td>74.0</td>\n",
       "      <td>85.0</td>\n",
       "      <td>0.0</td>\n",
       "      <td>0.0</td>\n",
       "      <td>0.0</td>\n",
       "      <td>0.0</td>\n",
       "    </tr>\n",
       "    <tr>\n",
       "      <th>History</th>\n",
       "      <td>65.0</td>\n",
       "      <td>0.0</td>\n",
       "      <td>0.0</td>\n",
       "      <td>83.0</td>\n",
       "      <td>78.0</td>\n",
       "      <td>72.0</td>\n",
       "      <td>61.0</td>\n",
       "    </tr>\n",
       "    <tr>\n",
       "      <th>Geography</th>\n",
       "      <td>0.0</td>\n",
       "      <td>92.0</td>\n",
       "      <td>76.0</td>\n",
       "      <td>95.0</td>\n",
       "      <td>82.0</td>\n",
       "      <td>75.0</td>\n",
       "      <td>0.0</td>\n",
       "    </tr>\n",
       "    <tr>\n",
       "      <th>Mathematics</th>\n",
       "      <td>99.0</td>\n",
       "      <td>89.0</td>\n",
       "      <td>85.0</td>\n",
       "      <td>74.0</td>\n",
       "      <td>0.0</td>\n",
       "      <td>0.0</td>\n",
       "      <td>95.0</td>\n",
       "    </tr>\n",
       "    <tr>\n",
       "      <th>Science</th>\n",
       "      <td>89.0</td>\n",
       "      <td>0.0</td>\n",
       "      <td>87.0</td>\n",
       "      <td>0.0</td>\n",
       "      <td>93.0</td>\n",
       "      <td>82.0</td>\n",
       "      <td>78.0</td>\n",
       "    </tr>\n",
       "  </tbody>\n",
       "</table>\n",
       "</div>"
      ],
      "text/plain": [
       "              Sam  Jackson  Ahree  Gloria  Isla  Aron  Gray\n",
       "English      60.0     74.0   85.0     0.0   0.0   0.0   0.0\n",
       "History      65.0      0.0    0.0    83.0  78.0  72.0  61.0\n",
       "Geography     0.0     92.0   76.0    95.0  82.0  75.0   0.0\n",
       "Mathematics  99.0     89.0   85.0    74.0   0.0   0.0  95.0\n",
       "Science      89.0      0.0   87.0     0.0  93.0  82.0  78.0"
      ]
     },
     "execution_count": 13,
     "metadata": {},
     "output_type": "execute_result"
    }
   ],
   "source": [
    "# 2.Convert the created series into DataFrame and replace the null values with zeroes.\n",
    "\n",
    "df_3 = pd.DataFrame(series_list).fillna(0)\n",
    "\n",
    "df_3"
   ]
  },
  {
   "cell_type": "code",
   "execution_count": 14,
   "metadata": {},
   "outputs": [
    {
     "name": "stdout",
     "output_type": "stream",
     "text": [
      "The dataframe after transposing and adding the average column:\n"
     ]
    },
    {
     "data": {
      "text/html": [
       "<div>\n",
       "<style scoped>\n",
       "    .dataframe tbody tr th:only-of-type {\n",
       "        vertical-align: middle;\n",
       "    }\n",
       "\n",
       "    .dataframe tbody tr th {\n",
       "        vertical-align: top;\n",
       "    }\n",
       "\n",
       "    .dataframe thead th {\n",
       "        text-align: right;\n",
       "    }\n",
       "</style>\n",
       "<table border=\"1\" class=\"dataframe\">\n",
       "  <thead>\n",
       "    <tr style=\"text-align: right;\">\n",
       "      <th></th>\n",
       "      <th>English</th>\n",
       "      <th>History</th>\n",
       "      <th>Geography</th>\n",
       "      <th>Mathematics</th>\n",
       "      <th>Science</th>\n",
       "      <th>Average</th>\n",
       "    </tr>\n",
       "  </thead>\n",
       "  <tbody>\n",
       "    <tr>\n",
       "      <th>Sam</th>\n",
       "      <td>60.0</td>\n",
       "      <td>65.0</td>\n",
       "      <td>0.0</td>\n",
       "      <td>99.0</td>\n",
       "      <td>89.0</td>\n",
       "      <td>62.6</td>\n",
       "    </tr>\n",
       "    <tr>\n",
       "      <th>Jackson</th>\n",
       "      <td>74.0</td>\n",
       "      <td>0.0</td>\n",
       "      <td>92.0</td>\n",
       "      <td>89.0</td>\n",
       "      <td>0.0</td>\n",
       "      <td>51.0</td>\n",
       "    </tr>\n",
       "    <tr>\n",
       "      <th>Ahree</th>\n",
       "      <td>85.0</td>\n",
       "      <td>0.0</td>\n",
       "      <td>76.0</td>\n",
       "      <td>85.0</td>\n",
       "      <td>87.0</td>\n",
       "      <td>66.6</td>\n",
       "    </tr>\n",
       "    <tr>\n",
       "      <th>Gloria</th>\n",
       "      <td>0.0</td>\n",
       "      <td>83.0</td>\n",
       "      <td>95.0</td>\n",
       "      <td>74.0</td>\n",
       "      <td>0.0</td>\n",
       "      <td>50.4</td>\n",
       "    </tr>\n",
       "    <tr>\n",
       "      <th>Isla</th>\n",
       "      <td>0.0</td>\n",
       "      <td>78.0</td>\n",
       "      <td>82.0</td>\n",
       "      <td>0.0</td>\n",
       "      <td>93.0</td>\n",
       "      <td>50.6</td>\n",
       "    </tr>\n",
       "    <tr>\n",
       "      <th>Aron</th>\n",
       "      <td>0.0</td>\n",
       "      <td>72.0</td>\n",
       "      <td>75.0</td>\n",
       "      <td>0.0</td>\n",
       "      <td>82.0</td>\n",
       "      <td>45.8</td>\n",
       "    </tr>\n",
       "    <tr>\n",
       "      <th>Gray</th>\n",
       "      <td>0.0</td>\n",
       "      <td>61.0</td>\n",
       "      <td>0.0</td>\n",
       "      <td>95.0</td>\n",
       "      <td>78.0</td>\n",
       "      <td>46.8</td>\n",
       "    </tr>\n",
       "  </tbody>\n",
       "</table>\n",
       "</div>"
      ],
      "text/plain": [
       "         English  History  Geography  Mathematics  Science  Average\n",
       "Sam         60.0     65.0        0.0         99.0     89.0     62.6\n",
       "Jackson     74.0      0.0       92.0         89.0      0.0     51.0\n",
       "Ahree       85.0      0.0       76.0         85.0     87.0     66.6\n",
       "Gloria       0.0     83.0       95.0         74.0      0.0     50.4\n",
       "Isla         0.0     78.0       82.0          0.0     93.0     50.6\n",
       "Aron         0.0     72.0       75.0          0.0     82.0     45.8\n",
       "Gray         0.0     61.0        0.0         95.0     78.0     46.8"
      ]
     },
     "execution_count": 14,
     "metadata": {},
     "output_type": "execute_result"
    }
   ],
   "source": [
    "# 3.Transpose the DataFrame and create a new column 'Average' and fill the values in it by calculating the average of all subjects\n",
    "\n",
    "# transposing the dataframe\n",
    "\n",
    "df_3= df_3.transpose()\n",
    "\n",
    "# creating a new column 'Average' and filling the values in it by calculating the average of all subjects   \n",
    "\n",
    "df_3['Average'] = df_3.mean(axis=1)\n",
    "\n",
    "# printing the dataframe\n",
    "\n",
    "print(\"The dataframe after transposing and adding the average column:\")\n",
    "\n",
    "df_3\n",
    "\n",
    "\n"
   ]
  },
  {
   "attachments": {},
   "cell_type": "markdown",
   "metadata": {},
   "source": [
    "# # Problem Statement 3"
   ]
  },
  {
   "cell_type": "code",
   "execution_count": 15,
   "metadata": {},
   "outputs": [
    {
     "name": "stdout",
     "output_type": "stream",
     "text": [
      "Numbers divisible by 7 and 17:\n"
     ]
    },
    {
     "data": {
      "text/plain": [
       "118    119\n",
       "237    238\n",
       "356    357\n",
       "475    476\n",
       "594    595\n",
       "713    714\n",
       "832    833\n",
       "951    952\n",
       "dtype: int64"
      ]
     },
     "execution_count": 15,
     "metadata": {},
     "output_type": "execute_result"
    }
   ],
   "source": [
    "# Problem Statement 3: Write a Python program to create a series from 1 to 1000 and select only numbers divisible by 7 and 17.\n",
    "\n",
    "# creating a series from 1 to 1000\n",
    "\n",
    "series = pd.Series(range(1,1001))\n",
    "\n",
    "# selecting only numbers divisible by 7 and 17\n",
    "\n",
    "series = series[(series % 7 == 0) & (series % 17 == 0)]\n",
    "\n",
    "# printing the series\n",
    "print(\"Numbers divisible by 7 and 17:\")\n",
    "series"
   ]
  },
  {
   "attachments": {},
   "cell_type": "markdown",
   "metadata": {},
   "source": [
    "# # Problem Statement 4"
   ]
  },
  {
   "cell_type": "code",
   "execution_count": 16,
   "metadata": {},
   "outputs": [
    {
     "data": {
      "text/plain": [
       "\"\\nDataset Description:\\ncereal.csv - The dataset contains 16 features. Here's a brief description of 3 columns in the \\ndataset:\\n• name - Brand name of the cereals\\n• MFR - Manufacturer of the brands\\n• rating - Rating of the cereals\\nSyliphia wants to visualize the quality of cereals and determine which manufacturer delivers \\nthe best quality.\\nTasks to be performed:\\n1. Import the dataset.\\n2. Plot ratings of different types of manufacturers.\\n3. Use xticks range form 0-100.\\n4. Change the style of the graph to seaborn\\n\\n\""
      ]
     },
     "execution_count": 16,
     "metadata": {},
     "output_type": "execute_result"
    }
   ],
   "source": [
    "# Problem Statement 4: Sylphia has a dataset of various cereals sold in the supermarket.\n",
    "\n",
    "\"\"\"\n",
    "Dataset Description:\n",
    "cereal.csv - The dataset contains 16 features. Here's a brief description of 3 columns in the \n",
    "dataset:\n",
    "• name - Brand name of the cereals\n",
    "• MFR - Manufacturer of the brands\n",
    "• rating - Rating of the cereals\n",
    "Syliphia wants to visualize the quality of cereals and determine which manufacturer delivers \n",
    "the best quality.\n",
    "Tasks to be performed:\n",
    "1. Import the dataset.\n",
    "2. Plot ratings of different types of manufacturers.\n",
    "3. Use xticks range form 0-100.\n",
    "4. Change the style of the graph to seaborn\n",
    "\n",
    "\"\"\"\n"
   ]
  },
  {
   "cell_type": "code",
   "execution_count": 17,
   "metadata": {},
   "outputs": [],
   "source": [
    "# Task 1: Import the dataset\n",
    "cereal_dataset = pd.read_csv('cereal.csv')\n"
   ]
  },
  {
   "cell_type": "code",
   "execution_count": 18,
   "metadata": {},
   "outputs": [
    {
     "ename": "AttributeError",
     "evalue": "'DataFrame' object has no attribute 'barplot'",
     "output_type": "error",
     "traceback": [
      "\u001b[1;31m---------------------------------------------------------------------------\u001b[0m",
      "\u001b[1;31mAttributeError\u001b[0m                            Traceback (most recent call last)",
      "Cell \u001b[1;32mIn[18], line 6\u001b[0m\n\u001b[0;32m      1\u001b[0m \u001b[39m# Task 2: Plot ratings of different types of manufacturers\u001b[39;00m\n\u001b[0;32m      2\u001b[0m \u001b[39m#plt.figure(figsize=(10, 6))\u001b[39;00m\n\u001b[0;32m      3\u001b[0m \u001b[39m# sns.barplot(data=df, x='mfr', y='rating', order=sorted(df['mfr'].unique()))\u001b[39;00m\n\u001b[0;32m      5\u001b[0m plt\u001b[39m.\u001b[39mfigure(figsize\u001b[39m=\u001b[39m(\u001b[39m10\u001b[39m, \u001b[39m6\u001b[39m))\n\u001b[1;32m----> 6\u001b[0m cereal_dataset\u001b[39m.\u001b[39;49mbarplot(column\u001b[39m=\u001b[39m\u001b[39m'\u001b[39m\u001b[39mrating\u001b[39m\u001b[39m'\u001b[39m, by\u001b[39m=\u001b[39m\u001b[39m'\u001b[39m\u001b[39mmfr\u001b[39m\u001b[39m'\u001b[39m, color\u001b[39m=\u001b[39m\u001b[39m'\u001b[39m\u001b[39mblue\u001b[39m\u001b[39m'\u001b[39m)\n\u001b[0;32m      8\u001b[0m \u001b[39m# Task 3: Set xticks range from 0-100\u001b[39;00m\n\u001b[0;32m      9\u001b[0m plt\u001b[39m.\u001b[39mylim(\u001b[39m0\u001b[39m, \u001b[39m100\u001b[39m)\n",
      "File \u001b[1;32mc:\\Users\\mase-\\anaconda3\\envs\\TensorflowMachinelearning\\lib\\site-packages\\pandas\\core\\generic.py:5902\u001b[0m, in \u001b[0;36mNDFrame.__getattr__\u001b[1;34m(self, name)\u001b[0m\n\u001b[0;32m   5895\u001b[0m \u001b[39mif\u001b[39;00m (\n\u001b[0;32m   5896\u001b[0m     name \u001b[39mnot\u001b[39;00m \u001b[39min\u001b[39;00m \u001b[39mself\u001b[39m\u001b[39m.\u001b[39m_internal_names_set\n\u001b[0;32m   5897\u001b[0m     \u001b[39mand\u001b[39;00m name \u001b[39mnot\u001b[39;00m \u001b[39min\u001b[39;00m \u001b[39mself\u001b[39m\u001b[39m.\u001b[39m_metadata\n\u001b[0;32m   5898\u001b[0m     \u001b[39mand\u001b[39;00m name \u001b[39mnot\u001b[39;00m \u001b[39min\u001b[39;00m \u001b[39mself\u001b[39m\u001b[39m.\u001b[39m_accessors\n\u001b[0;32m   5899\u001b[0m     \u001b[39mand\u001b[39;00m \u001b[39mself\u001b[39m\u001b[39m.\u001b[39m_info_axis\u001b[39m.\u001b[39m_can_hold_identifiers_and_holds_name(name)\n\u001b[0;32m   5900\u001b[0m ):\n\u001b[0;32m   5901\u001b[0m     \u001b[39mreturn\u001b[39;00m \u001b[39mself\u001b[39m[name]\n\u001b[1;32m-> 5902\u001b[0m \u001b[39mreturn\u001b[39;00m \u001b[39mobject\u001b[39;49m\u001b[39m.\u001b[39;49m\u001b[39m__getattribute__\u001b[39;49m(\u001b[39mself\u001b[39;49m, name)\n",
      "\u001b[1;31mAttributeError\u001b[0m: 'DataFrame' object has no attribute 'barplot'"
     ]
    },
    {
     "data": {
      "text/plain": [
       "<Figure size 1000x600 with 0 Axes>"
      ]
     },
     "metadata": {},
     "output_type": "display_data"
    }
   ],
   "source": [
    "# Task 2: Plot ratings of different types of manufacturers\n",
    "#plt.figure(figsize=(10, 6))\n",
    "# sns.barplot(data=df, x='mfr', y='rating', order=sorted(df['mfr'].unique()))\n",
    "\n",
    "plt.figure(figsize=(10, 6))\n",
    "cereal_dataset.barplot(column='rating', by='mfr', color='blue')\n",
    "\n",
    "# Task 3: Set xticks range from 0-100\n",
    "plt.ylim(0, 100)\n",
    "plt.xlabel('Manufacturer')\n",
    "plt.ylabel('Rating')\n",
    "plt.title('Ratings of Cereals by Manufacturer')\n",
    "plt.suptitle('')  # Remove the default title created by boxplot()\n",
    "plt.show()\n",
    "\n",
    "\n",
    "# Task 4: Change the style of the graph to seaborn\n",
    "sns.set(style='dark')\n"
   ]
  }
 ],
 "metadata": {
  "kernelspec": {
   "display_name": "TensorflowMachinelearning",
   "language": "python",
   "name": "python3"
  },
  "language_info": {
   "codemirror_mode": {
    "name": "ipython",
    "version": 3
   },
   "file_extension": ".py",
   "mimetype": "text/x-python",
   "name": "python",
   "nbconvert_exporter": "python",
   "pygments_lexer": "ipython3",
   "version": "3.10.8"
  },
  "orig_nbformat": 4
 },
 "nbformat": 4,
 "nbformat_minor": 2
}
